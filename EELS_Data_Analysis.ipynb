{
 "cells": [
  {
   "cell_type": "code",
   "execution_count": 1,
   "id": "bf87e571-ff69-4472-a310-b908ca2a6d1e",
   "metadata": {
    "tags": []
   },
   "outputs": [],
   "source": [
    "%matplotlib qt5"
   ]
  },
  {
   "cell_type": "code",
   "execution_count": 2,
   "id": "663da0bd-3b2c-4159-b6c2-b7fe81e37c67",
   "metadata": {
    "tags": []
   },
   "outputs": [],
   "source": [
    "import hyperspy.api as hs"
   ]
  },
  {
   "cell_type": "code",
   "execution_count": 116,
   "id": "76ec1d87-9e8e-4bf2-acf5-1827a522fd7a",
   "metadata": {
    "tags": []
   },
   "outputs": [],
   "source": [
    "import numpy as np\n",
    "\n",
    "def NormalizeData(data):\n",
    "    return (data - np.min(data)) / (np.max(data) - np.min(data))"
   ]
  },
  {
   "cell_type": "code",
   "execution_count": 3,
   "id": "b6733da7-f5c3-4917-aee0-76773451db35",
   "metadata": {
    "tags": []
   },
   "outputs": [
    {
     "data": {
      "text/plain": [
       "<EELSSpectrum, title: 003_EELS-SI_1.7nm_2mmAp_TiO_Stack_Averaged denoised, dimensions: (40, 236|1028)>"
      ]
     },
     "execution_count": 3,
     "metadata": {},
     "output_type": "execute_result"
    }
   ],
   "source": [
    "s = hs.load(\"003_EELS-SI_1.7nm_2mmAp_TiO_Stack_Averaged denoised.dm3\")\n",
    "s"
   ]
  },
  {
   "cell_type": "code",
   "execution_count": null,
   "id": "0fda1bec-8fd9-4b0b-9e42-b9430971e402",
   "metadata": {},
   "outputs": [],
   "source": [
    "s.plot()"
   ]
  },
  {
   "cell_type": "code",
   "execution_count": 4,
   "id": "a95c0097-ade5-43e9-8283-a766841e7010",
   "metadata": {
    "tags": []
   },
   "outputs": [
    {
     "data": {
      "text/html": [
       "<ul style=\"margin: 0px; list-style-position: outside;\">\n",
       "                    <details open>\n",
       "                    <summary style=\"display: list-item;\">\n",
       "                    <li style=\"display: inline;\">\n",
       "                    Acquisition_instrument\n",
       "                    </li></summary>\n",
       "                    <ul style=\"margin: 0px; list-style-position: outside;\">\n",
       "                    <details closed>\n",
       "                    <summary style=\"display: list-item;\">\n",
       "                    <li style=\"display: inline;\">\n",
       "                    TEM\n",
       "                    </li></summary>\n",
       "                    <ul style=\"margin: 0px; list-style-position: outside;\">\n",
       "                    <details closed>\n",
       "                    <summary style=\"display: list-item;\">\n",
       "                    <li style=\"display: inline;\">\n",
       "                    Detector\n",
       "                    </li></summary>\n",
       "                    <ul style=\"margin: 0px; list-style-position: outside;\">\n",
       "                    <details closed>\n",
       "                    <summary style=\"display: list-item;\">\n",
       "                    <li style=\"display: inline;\">\n",
       "                    EELS\n",
       "                    </li></summary>\n",
       "                    \n",
       "    <ul style=\"margin: 0px; list-style-position: outside;\">\n",
       "    <li style='margin-left:1em; padding-left: 0.5em'>collection_angle = 50</li></ul>\n",
       "    </details></ul></details></ul>\n",
       "    <ul style=\"margin: 0px; list-style-position: outside;\">\n",
       "    <li style='margin-left:1em; padding-left: 0.5em'>beam_energy = 300</li></ul>\n",
       "    \n",
       "    <ul style=\"margin: 0px; list-style-position: outside;\">\n",
       "    <li style='margin-left:1em; padding-left: 0.5em'>convergence_angle = 40</li></ul>\n",
       "    </details></ul></details></ul><ul style=\"margin: 0px; list-style-position: outside;\">\n",
       "                    <details open>\n",
       "                    <summary style=\"display: list-item;\">\n",
       "                    <li style=\"display: inline;\">\n",
       "                    General\n",
       "                    </li></summary>\n",
       "                    <ul style=\"margin: 0px; list-style-position: outside;\">\n",
       "                    <details closed>\n",
       "                    <summary style=\"display: list-item;\">\n",
       "                    <li style=\"display: inline;\">\n",
       "                    FileIO\n",
       "                    </li></summary>\n",
       "                    <ul style=\"margin: 0px; list-style-position: outside;\">\n",
       "                    <details closed>\n",
       "                    <summary style=\"display: list-item;\">\n",
       "                    <li style=\"display: inline;\">\n",
       "                    0\n",
       "                    </li></summary>\n",
       "                    \n",
       "    <ul style=\"margin: 0px; list-style-position: outside;\">\n",
       "    <li style='margin-left:1em; padding-left: 0.5em'>hyperspy_version = 1.7.5</li></ul>\n",
       "    \n",
       "    <ul style=\"margin: 0px; list-style-position: outside;\">\n",
       "    <li style='margin-left:1em; padding-left: 0.5em'>io_plugin = hyperspy.io_plugins.digital_micrograph</li></ul>\n",
       "    \n",
       "    <ul style=\"margin: 0px; list-style-position: outside;\">\n",
       "    <li style='margin-left:1em; padding-left: 0.5em'>operation = load</li></ul>\n",
       "    \n",
       "    <ul style=\"margin: 0px; list-style-position: outside;\">\n",
       "    <li style='margin-left:1em; padding-left: 0.5em'>timestamp = 2023-06-26T16:26:54.726363+05:30</li></ul>\n",
       "    </details></ul></details></ul>\n",
       "    <ul style=\"margin: 0px; list-style-position: outside;\">\n",
       "    <li style='margin-left:1em; padding-left: 0.5em'>original_filename = 003_EELS-SI_1.7nm_2mmAp_TiO_Stack_Averaged denoised.dm3</li></ul>\n",
       "    \n",
       "    <ul style=\"margin: 0px; list-style-position: outside;\">\n",
       "    <li style='margin-left:1em; padding-left: 0.5em'>title = 003_EELS-SI_1.7nm_2mmAp_TiO_Stack_Averaged denoised</li></ul>\n",
       "    </details></ul><ul style=\"margin: 0px; list-style-position: outside;\">\n",
       "                    <details open>\n",
       "                    <summary style=\"display: list-item;\">\n",
       "                    <li style=\"display: inline;\">\n",
       "                    Signal\n",
       "                    </li></summary>\n",
       "                    <ul style=\"margin: 0px; list-style-position: outside;\">\n",
       "                    <details closed>\n",
       "                    <summary style=\"display: list-item;\">\n",
       "                    <li style=\"display: inline;\">\n",
       "                    Noise_properties\n",
       "                    </li></summary>\n",
       "                    <ul style=\"margin: 0px; list-style-position: outside;\">\n",
       "                    <details closed>\n",
       "                    <summary style=\"display: list-item;\">\n",
       "                    <li style=\"display: inline;\">\n",
       "                    Variance_linear_model\n",
       "                    </li></summary>\n",
       "                    \n",
       "    <ul style=\"margin: 0px; list-style-position: outside;\">\n",
       "    <li style='margin-left:1em; padding-left: 0.5em'>gain_factor = 1.0</li></ul>\n",
       "    \n",
       "    <ul style=\"margin: 0px; list-style-position: outside;\">\n",
       "    <li style='margin-left:1em; padding-left: 0.5em'>gain_offset = -0.0</li></ul>\n",
       "    </details></ul></details></ul>\n",
       "    <ul style=\"margin: 0px; list-style-position: outside;\">\n",
       "    <li style='margin-left:1em; padding-left: 0.5em'>quantity = Intensity (counts)</li></ul>\n",
       "    \n",
       "    <ul style=\"margin: 0px; list-style-position: outside;\">\n",
       "    <li style='margin-left:1em; padding-left: 0.5em'>signal_type = EELS</li></ul>\n",
       "    </details></ul>"
      ],
      "text/plain": [
       "├── Acquisition_instrument\n",
       "│   └── TEM\n",
       "│       ├── Detector\n",
       "│       │   └── EELS\n",
       "│       │       └── collection_angle = 50\n",
       "│       ├── beam_energy = 300\n",
       "│       └── convergence_angle = 40\n",
       "├── General\n",
       "│   ├── FileIO\n",
       "│   │   └── 0\n",
       "│   │       ├── hyperspy_version = 1.7.5\n",
       "│   │       ├── io_plugin = hyperspy.io_plugins.digital_micrograph\n",
       "│   │       ├── operation = load\n",
       "│   │       └── timestamp = 2023-06-26T16:26:54.726363+05:30\n",
       "│   ├── original_filename = 003_EELS-SI_1.7nm_2mmAp_TiO_Stack_Averaged denoised.dm3\n",
       "│   └── title = 003_EELS-SI_1.7nm_2mmAp_TiO_Stack_Averaged denoised\n",
       "└── Signal\n",
       "    ├── Noise_properties\n",
       "    │   └── Variance_linear_model\n",
       "    │       ├── gain_factor = 1.0\n",
       "    │       └── gain_offset = -0.0\n",
       "    ├── quantity = Intensity (counts)\n",
       "    └── signal_type = EELS"
      ]
     },
     "execution_count": 4,
     "metadata": {},
     "output_type": "execute_result"
    }
   ],
   "source": [
    "s.set_microscope_parameters(beam_energy=300, collection_angle=50, convergence_angle=40)\n",
    "s.metadata"
   ]
  },
  {
   "cell_type": "code",
   "execution_count": null,
   "id": "3978d109-62d3-4473-b2ac-7fadc985d950",
   "metadata": {},
   "outputs": [],
   "source": [
    "# s.add_elements(('Ti', 'O'))"
   ]
  },
  {
   "cell_type": "code",
   "execution_count": 5,
   "id": "5b8b4d13-29ce-48bd-9c35-7406ede6483f",
   "metadata": {
    "tags": []
   },
   "outputs": [
    {
     "data": {
      "text/plain": [
       "<EELSSpectrum, title: 003_EELS-SI_1.7nm_2mmAp_TiO_Stack_Averaged denoised, dimensions: (38, 234|1028)>"
      ]
     },
     "execution_count": 5,
     "metadata": {},
     "output_type": "execute_result"
    }
   ],
   "source": [
    "s = s.inav[1:-1, 1:-1]\n",
    "s"
   ]
  },
  {
   "cell_type": "code",
   "execution_count": 92,
   "id": "f4e07508-314f-4b06-a87f-fa80794b8a67",
   "metadata": {
    "tags": []
   },
   "outputs": [],
   "source": [
    "s.plot()"
   ]
  },
  {
   "cell_type": "code",
   "execution_count": 6,
   "id": "082fbdbb-8e76-4ea3-81b9-d566b71ae29c",
   "metadata": {
    "tags": []
   },
   "outputs": [
    {
     "name": "stdout",
     "output_type": "stream",
     "text": [
      "Decomposition info:\n",
      "  normalize_poissonian_noise=True\n",
      "  algorithm=SVD\n",
      "  output_dimension=None\n",
      "  centre=None\n"
     ]
    }
   ],
   "source": [
    "s.decomposition(normalize_poissonian_noise=True)"
   ]
  },
  {
   "cell_type": "code",
   "execution_count": null,
   "id": "d9c57a54-360b-4b3e-8e68-615eff057fc5",
   "metadata": {},
   "outputs": [],
   "source": [
    "s.plot_explained_variance_ratio()"
   ]
  },
  {
   "cell_type": "code",
   "execution_count": 94,
   "id": "e9c45144-ae5b-46d6-b37e-8ce47ba66904",
   "metadata": {
    "tags": []
   },
   "outputs": [
    {
     "data": {
      "text/plain": [
       "<EELSSpectrum, title: 003_EELS-SI_1.7nm_2mmAp_TiO_Stack_Averaged denoised model from decomposition with 4 components, dimensions: (38, 234|1028)>"
      ]
     },
     "execution_count": 94,
     "metadata": {},
     "output_type": "execute_result"
    }
   ],
   "source": [
    "s_denoised = s.get_decomposition_model(components=4)\n",
    "s_denoised"
   ]
  },
  {
   "cell_type": "code",
   "execution_count": 93,
   "id": "d09c5ec9-0ff2-436b-a31c-f1355333147b",
   "metadata": {
    "tags": []
   },
   "outputs": [],
   "source": [
    "s_denoised.plot()"
   ]
  },
  {
   "cell_type": "code",
   "execution_count": 8,
   "id": "ed288ef7-a855-4778-95c6-a06c90d73640",
   "metadata": {
    "tags": []
   },
   "outputs": [
    {
     "name": "stdout",
     "output_type": "stream",
     "text": [
      "[########################################] | 100% Completed | 116.46 ms\n"
     ]
    },
    {
     "name": "stderr",
     "output_type": "stream",
     "text": [
      "WARNING:hyperspy.learn.mva:HyperSpy already performs its own data whitening (whiten_method='PCA'), so it is ignored for algorithm='sklearn_fastica'.\n"
     ]
    },
    {
     "name": "stdout",
     "output_type": "stream",
     "text": [
      "Blind source separation info:\n",
      "  number_of_components=4\n",
      "  algorithm=sklearn_fastica\n",
      "  diff_order=1\n",
      "  reverse_component_criterion=factors\n",
      "  whiten_method=PCA\n",
      "scikit-learn estimator:\n",
      "FastICA(tol=1e-10, whiten=False)\n"
     ]
    },
    {
     "name": "stderr",
     "output_type": "stream",
     "text": [
      "C:\\Users\\Geri\\miniconda3\\envs\\hyperspy_env\\lib\\site-packages\\sklearn\\decomposition\\_fastica.py:123: ConvergenceWarning: FastICA did not converge. Consider increasing tolerance or the maximum number of iterations.\n",
      "  warnings.warn(\n"
     ]
    }
   ],
   "source": [
    "s.blind_source_separation(number_of_components=4)"
   ]
  },
  {
   "cell_type": "code",
   "execution_count": 9,
   "id": "85aa0d4b-fa64-4416-a4a5-b078180a4f61",
   "metadata": {
    "tags": []
   },
   "outputs": [
    {
     "data": {
      "image/png": "[encoded data removed]",
      "text/plain": [
       "<Figure size 640x480 with 1 Axes>"
      ]
     },
     "execution_count": 9,
     "metadata": {},
     "output_type": "execute_result"
    }
   ],
   "source": [
    "s.plot_bss_factors()"
   ]
  },
  {
   "cell_type": "code",
   "execution_count": 30,
   "id": "8d0d1679-6318-45b1-9c2a-a9b8708d76fb",
   "metadata": {},
   "outputs": [
    {
     "data": {
      "image/png": "[encoded data removed]",
      "text/plain": [
       "<Figure size 640x480 with 8 Axes>"
      ]
     },
     "execution_count": 30,
     "metadata": {},
     "output_type": "execute_result"
    }
   ],
   "source": [
    "s.plot_bss_loadings(per_row=4)"
   ]
  },
  {
   "cell_type": "code",
   "execution_count": 10,
   "id": "401003fa-adcf-45f0-8a08-9317b6b99276",
   "metadata": {
    "tags": []
   },
   "outputs": [
    {
     "data": {
      "text/plain": [
       "<EELSSpectrum, title: BSS factors of 003_EELS-SI_1.7nm_2mmAp_TiO_Stack_Averaged denoised, dimensions: (4|1028)>"
      ]
     },
     "execution_count": 10,
     "metadata": {},
     "output_type": "execute_result"
    }
   ],
   "source": [
    "factors = s.get_bss_factors()\n",
    "factors"
   ]
  },
  {
   "cell_type": "code",
   "execution_count": 11,
   "id": "0d3fb5c0-ebb5-4c73-b4bc-acef224d8094",
   "metadata": {
    "tags": []
   },
   "outputs": [
    {
     "data": {
      "text/plain": [
       "<BaseSignal, title: BSS loadings of 003_EELS-SI_1.7nm_2mmAp_TiO_Stack_Averaged denoised, dimensions: (4|38, 234)>"
      ]
     },
     "execution_count": 11,
     "metadata": {},
     "output_type": "execute_result"
    }
   ],
   "source": [
    "loadings = s.get_bss_loadings()\n",
    "loadings"
   ]
  },
  {
   "cell_type": "code",
   "execution_count": 12,
   "id": "9909e616-c099-4e56-a6e4-1372eb35a169",
   "metadata": {
    "tags": []
   },
   "outputs": [
    {
     "data": {
      "text/plain": [
       "<EELSSpectrum, title: BSS factors of 003_EELS-SI_1.7nm_2mmAp_TiO_Stack_Averaged denoised, dimensions: (|1028)>"
      ]
     },
     "execution_count": 12,
     "metadata": {},
     "output_type": "execute_result"
    }
   ],
   "source": [
    "factor_2 = factors.inav[2]\n",
    "factor_2"
   ]
  },
  {
   "cell_type": "code",
   "execution_count": 13,
   "id": "94b83436-4ef2-4984-8b6e-14dd578c4919",
   "metadata": {
    "tags": []
   },
   "outputs": [],
   "source": [
    "factor_3 = factors.inav[3]"
   ]
  },
  {
   "cell_type": "code",
   "execution_count": 103,
   "id": "9a03b995-e208-425f-86e6-51c022106b49",
   "metadata": {
    "tags": []
   },
   "outputs": [
    {
     "data": {
      "text/plain": [
       "<EELSSpectrum, title: BSS factors of 003_EELS-SI_1.7nm_2mmAp_TiO_Stack_Averaged denoised, dimensions: (|150)>"
      ]
     },
     "execution_count": 103,
     "metadata": {},
     "output_type": "execute_result"
    }
   ],
   "source": [
    "factor_2 = factor_2.isig[455.:470.]\n",
    "factor_2"
   ]
  },
  {
   "cell_type": "code",
   "execution_count": 17,
   "id": "627e30a8-56cf-4669-8eb3-7d7b66906b52",
   "metadata": {
    "tags": []
   },
   "outputs": [],
   "source": [
    "factor_3 = factor_3.isig[455.:470.]"
   ]
  },
  {
   "cell_type": "code",
   "execution_count": 18,
   "id": "63e100b8-d8e8-4491-97c5-24b702d40b6c",
   "metadata": {
    "tags": []
   },
   "outputs": [
    {
     "data": {
      "text/plain": [
       "<BaseSignal, title: BSS loadings of 003_EELS-SI_1.7nm_2mmAp_TiO_Stack_Averaged denoised, dimensions: (|38, 234)>"
      ]
     },
     "execution_count": 18,
     "metadata": {},
     "output_type": "execute_result"
    }
   ],
   "source": [
    "loading_2 = loadings.inav[2]\n",
    "loading_2"
   ]
  },
  {
   "cell_type": "code",
   "execution_count": 19,
   "id": "158fbb50-f69b-4da8-9b8c-3496026377a5",
   "metadata": {
    "tags": []
   },
   "outputs": [],
   "source": [
    "loading_3 = loadings.inav[3]"
   ]
  },
  {
   "cell_type": "code",
   "execution_count": 23,
   "id": "9f37d390-6d9f-4dd7-8bdf-84a1beb76e65",
   "metadata": {
    "tags": []
   },
   "outputs": [],
   "source": [
    "loading_3.isig[:, -7.5:-3.].plot()"
   ]
  },
  {
   "cell_type": "code",
   "execution_count": 29,
   "id": "8cfe6359-5741-466c-9f59-862e443768cc",
   "metadata": {
    "tags": []
   },
   "outputs": [
    {
     "data": {
      "text/plain": [
       "<Signal2D, title: , dimensions: (|40, 236)>"
      ]
     },
     "execution_count": 29,
     "metadata": {},
     "output_type": "execute_result"
    }
   ],
   "source": [
    "haadf = hs.load(\"003_EELS-SI_HAADF-During_1.7nm_ThinArea_Stack_Averaged.dm3\")\n",
    "haadf"
   ]
  },
  {
   "cell_type": "code",
   "execution_count": 102,
   "id": "0080fa47-250c-4796-a666-1bf2d8dd9885",
   "metadata": {
    "tags": []
   },
   "outputs": [
    {
     "data": {
      "text/plain": [
       "<EELSSpectrum, title: 003_EELS-SI_1.7nm_2mmAp_TiO_Stack_Averaged denoised model from decomposition with 4 components, dimensions: (38, 234|150)>"
      ]
     },
     "execution_count": 102,
     "metadata": {},
     "output_type": "execute_result"
    }
   ],
   "source": [
    "s_denoised = s_denoised.isig[455.:470.]\n",
    "s_denoised"
   ]
  },
  {
   "cell_type": "code",
   "execution_count": 105,
   "id": "a88ce8f0-b5a7-4ac4-b7ba-79f01fd0a5d3",
   "metadata": {
    "tags": []
   },
   "outputs": [],
   "source": [
    "s_denoised.sum().plot()"
   ]
  },
  {
   "cell_type": "code",
   "execution_count": 63,
   "id": "66d97bc8-ea09-4a61-8d0d-45ee49781cca",
   "metadata": {
    "tags": []
   },
   "outputs": [],
   "source": [
    "loading_2 = loading_2.isig[:, -7.5:-3.]\n",
    "loading_3 = loading_3.isig[:, -7.5:-3.]\n",
    "haadf = haadf.isig[:, -7.5:-3.]"
   ]
  },
  {
   "cell_type": "code",
   "execution_count": 31,
   "id": "2f2823af-bc50-43b1-abf6-c5f5b0f16ed7",
   "metadata": {
    "tags": []
   },
   "outputs": [],
   "source": [
    "import matplotlib.pyplot as plt"
   ]
  },
  {
   "cell_type": "code",
   "execution_count": 252,
   "id": "b5c8ec79-d8ac-48f5-8114-f1e19e2863b7",
   "metadata": {
    "tags": []
   },
   "outputs": [],
   "source": [
    "fig = plt.figure(figsize=(9, 5))"
   ]
  },
  {
   "cell_type": "code",
   "execution_count": 253,
   "id": "00b66e15-8b47-4735-a3f7-cfae30bca134",
   "metadata": {
    "tags": []
   },
   "outputs": [],
   "source": [
    "gs = plt.GridSpec(100, 90)"
   ]
  },
  {
   "cell_type": "code",
   "execution_count": 254,
   "id": "04b643cf-bb60-41b2-b16b-3e9a23887f8b",
   "metadata": {
    "tags": []
   },
   "outputs": [],
   "source": [
    "ax_eels = fig.add_subplot(gs[:, :])"
   ]
  },
  {
   "cell_type": "code",
   "execution_count": 255,
   "id": "88dea703-a720-49cc-bc0b-a0ce72586328",
   "metadata": {
    "tags": []
   },
   "outputs": [],
   "source": [
    "ax_haadf = fig.add_subplot(gs[:30, 80:])\n",
    "ax_loading2 = fig.add_subplot(gs[35:65, 80:])\n",
    "ax_loading3 = fig.add_subplot(gs[70:, 80:])"
   ]
  },
  {
   "cell_type": "code",
   "execution_count": 256,
   "id": "e94d0359-0be9-4d5b-86c9-f1b482242432",
   "metadata": {
    "tags": []
   },
   "outputs": [
    {
     "data": {
      "text/plain": [
       "[<matplotlib.lines.Line2D at 0x22a2374cd90>]"
      ]
     },
     "execution_count": 256,
     "metadata": {},
     "output_type": "execute_result"
    }
   ],
   "source": [
    "ax_eels.plot(s_denoised.sum().isig[455.:470.].axes_manager[0].axis, NormalizeData(s_denoised.sum().isig[455.:470.].data)+1.2, label='Total signal')\n",
    "ax_eels.plot(factor_2.axes_manager[0].axis, NormalizeData(factor_2.data)+0.5, label=\"BSS factor 2\")\n",
    "ax_eels.plot(factor_3.axes_manager[0].axis, NormalizeData(factor_3.data), label=\"BSS factor 3\")"
   ]
  },
  {
   "cell_type": "code",
   "execution_count": 257,
   "id": "3fca4bd8-7446-420a-bb25-5e1c8e047c3e",
   "metadata": {
    "tags": []
   },
   "outputs": [
    {
     "data": {
      "text/plain": [
       "<matplotlib.image.AxesImage at 0x22a2371dbb0>"
      ]
     },
     "execution_count": 257,
     "metadata": {},
     "output_type": "execute_result"
    }
   ],
   "source": [
    "ax_haadf.imshow(haadf, cmap=\"binary_r\", extent=haadf.axes_manager.signal_extent)"
   ]
  },
  {
   "cell_type": "code",
   "execution_count": 258,
   "id": "8606d801-803a-4a70-99c2-eedbedc63f97",
   "metadata": {
    "tags": []
   },
   "outputs": [
    {
     "data": {
      "text/plain": [
       "<matplotlib.image.AxesImage at 0x22a3019a2e0>"
      ]
     },
     "execution_count": 258,
     "metadata": {},
     "output_type": "execute_result"
    }
   ],
   "source": [
    "ax_loading2.imshow(loading_2, cmap=\"binary_r\", extent=loading_2.axes_manager.signal_extent)\n",
    "ax_loading3.imshow(loading_3, cmap=\"binary_r\", extent=loading_3.axes_manager.signal_extent)"
   ]
  },
  {
   "cell_type": "code",
   "execution_count": 259,
   "id": "0d055ed9-5326-4d86-aab0-fcaa41dfeb8a",
   "metadata": {
    "tags": []
   },
   "outputs": [
    {
     "data": {
      "text/plain": [
       "[]"
      ]
     },
     "execution_count": 259,
     "metadata": {},
     "output_type": "execute_result"
    }
   ],
   "source": [
    "ax_eels.set_yticks([])\n",
    "ax_loading2.set_yticks([])\n",
    "ax_loading3.set_yticks([])\n",
    "ax_haadf.set_yticks([])"
   ]
  },
  {
   "cell_type": "code",
   "execution_count": 260,
   "id": "d035cdc3-4f52-405a-b62d-b471b56f7fda",
   "metadata": {
    "tags": []
   },
   "outputs": [
    {
     "data": {
      "text/plain": [
       "[]"
      ]
     },
     "execution_count": 260,
     "metadata": {},
     "output_type": "execute_result"
    }
   ],
   "source": [
    "ax_loading2.set_xticks([])\n",
    "ax_loading3.set_xticks([])\n",
    "ax_haadf.set_xticks([])"
   ]
  },
  {
   "cell_type": "code",
   "execution_count": 261,
   "id": "01afecd7-ee94-4f02-9fd6-ea18a64a25c8",
   "metadata": {
    "tags": []
   },
   "outputs": [],
   "source": [
    "for axis, color in zip([ax_haadf, ax_loading2, ax_loading3], [\"blue\", \"orange\", \"green\"]):\n",
    "    for spine in axis.spines.values():\n",
    "        spine.set_edgecolor(color)\n",
    "        spine.set_linewidth(1.5)"
   ]
  },
  {
   "cell_type": "code",
   "execution_count": 262,
   "id": "ec766557-cb68-4e38-a9cd-10683255c139",
   "metadata": {
    "tags": []
   },
   "outputs": [
    {
     "data": {
      "text/plain": [
       "Text(106.94444444444444, 0.5, 'Intensity (au)')"
      ]
     },
     "execution_count": 262,
     "metadata": {},
     "output_type": "execute_result"
    }
   ],
   "source": [
    "ax_eels.set_xlabel(\"Energy loss (eV)\")\n",
    "ax_eels.set_ylabel(\"Intensity (au)\")"
   ]
  },
  {
   "cell_type": "code",
   "execution_count": 265,
   "id": "93bfa457-d1d4-44c0-b98b-975217fb1cef",
   "metadata": {
    "tags": []
   },
   "outputs": [
    {
     "data": {
      "text/plain": [
       "<matplotlib.legend.Legend at 0x22a22f3cee0>"
      ]
     },
     "execution_count": 265,
     "metadata": {},
     "output_type": "execute_result"
    }
   ],
   "source": [
    "ax_eels.legend(loc=\"upper left\", fontsize=9)"
   ]
  },
  {
   "cell_type": "code",
   "execution_count": 267,
   "id": "524f53e4-b1bb-4d47-babb-49b0b9e38660",
   "metadata": {
    "tags": []
   },
   "outputs": [],
   "source": [
    "fig.savefig(\"Ti_decomp.png\", transparent=True, dpi=300)"
   ]
  },
  {
   "cell_type": "code",
   "execution_count": null,
   "id": "86ba3376-e6bd-4a27-b0e8-af09922d2574",
   "metadata": {},
   "outputs": [],
   "source": []
  },
  {
   "cell_type": "code",
   "execution_count": 18,
   "id": "81f7ee61-2219-4232-a45f-c0f11f321452",
   "metadata": {},
   "outputs": [
    {
     "name": "stderr",
     "output_type": "stream",
     "text": [
      "/home/gt622/mambaforge/envs/hyperspy_env/lib/python3.11/site-packages/jupyter_client/session.py:719: UserWarning: Message serialization failed with:\n",
      "Out of range float values are not JSON compliant\n",
      "Supporting this message is deprecated in jupyter-client 7, please make sure your message is JSON-compliant\n",
      "  content = self.pack(content)\n"
     ]
    },
    {
     "data": {
      "application/vnd.jupyter.widget-view+json": {
       "model_id": "",
       "version_major": 2,
       "version_minor": 0
      },
      "text/plain": [
       "VBox(children=(FloatText(value=nan, description='Left', disabled=True), FloatText(value=nan, description='Righ…"
      ]
     },
     "metadata": {},
     "output_type": "display_data"
    }
   ],
   "source": [
    "s_denoised.remove_background()"
   ]
  },
  {
   "cell_type": "code",
   "execution_count": null,
   "id": "34802d59-cc14-48f2-b094-00f284c8eb1f",
   "metadata": {},
   "outputs": [],
   "source": []
  },
  {
   "cell_type": "code",
   "execution_count": null,
   "id": "86da5ea4-800c-4cbf-89a3-858b2ec6fbe5",
   "metadata": {},
   "outputs": [],
   "source": []
  },
  {
   "cell_type": "code",
   "execution_count": null,
   "id": "595463d5-6cc9-4f24-a4bb-af917af8ede2",
   "metadata": {},
   "outputs": [],
   "source": []
  },
  {
   "cell_type": "code",
   "execution_count": null,
   "id": "961355ac-1ee5-4890-8ae8-3a6349d8107d",
   "metadata": {},
   "outputs": [],
   "source": []
  },
  {
   "cell_type": "code",
   "execution_count": null,
   "id": "4a64e3ef-0ef8-4dd7-9f90-85f88b9d8651",
   "metadata": {},
   "outputs": [],
   "source": []
  },
  {
   "cell_type": "code",
   "execution_count": null,
   "id": "aefc46bf-bd06-44f5-82fb-e663f1333447",
   "metadata": {},
   "outputs": [],
   "source": []
  },
  {
   "cell_type": "code",
   "execution_count": null,
   "id": "40475379-1e80-4580-a0f8-9e8ced96f794",
   "metadata": {},
   "outputs": [],
   "source": []
  },
  {
   "cell_type": "code",
   "execution_count": null,
   "id": "6c62e22d-6a50-4b8c-81b3-c4e072432d30",
   "metadata": {},
   "outputs": [],
   "source": [
    "Ti_peak_cropped = Ti_peak.inav[roi]\n",
    "Ti_peak_cropped"
   ]
  },
  {
   "cell_type": "code",
   "execution_count": null,
   "id": "0727cd99-f6fd-4d7d-b73c-61f4e2ca9ade",
   "metadata": {},
   "outputs": [],
   "source": [
    "Ti_peak_cropped.plot()"
   ]
  },
  {
   "cell_type": "code",
   "execution_count": 22,
   "id": "0d99f779-6a88-4acb-a8f4-63ca8f77d6f9",
   "metadata": {},
   "outputs": [],
   "source": [
    "m = Ti_peak.create_model(auto_background=False)"
   ]
  },
  {
   "cell_type": "code",
   "execution_count": 23,
   "id": "8f32d166-a5eb-4ff1-8e11-1221edb3364a",
   "metadata": {},
   "outputs": [
    {
     "data": {
      "text/plain": [
       "   # |      Attribute Name |      Component Name |      Component Type\n",
       "---- | ------------------- | ------------------- | -------------------"
      ]
     },
     "execution_count": 23,
     "metadata": {},
     "output_type": "execute_result"
    }
   ],
   "source": [
    "m.components"
   ]
  },
  {
   "cell_type": "code",
   "execution_count": 24,
   "id": "19a6b4eb-f687-4ba7-9799-d6fc3a2bce0f",
   "metadata": {},
   "outputs": [],
   "source": [
    "m.plot(plot_components=True)"
   ]
  },
  {
   "cell_type": "code",
   "execution_count": 25,
   "id": "4fb9d844-2ab7-4d52-8b1b-cf9946702010",
   "metadata": {},
   "outputs": [],
   "source": [
    "g1 = hs.model.components1D.GaussianHF()\n",
    "m.append(g1)\n",
    "m.components.GaussianHF.name = \"e_g\""
   ]
  },
  {
   "cell_type": "code",
   "execution_count": 26,
   "id": "d63b6d79-beab-455c-9e2d-bbf08a7def2e",
   "metadata": {},
   "outputs": [
    {
     "data": {
      "application/vnd.jupyter.widget-view+json": {
       "model_id": "108b3441b60046358dc32492b3df52c0",
       "version_major": 2,
       "version_minor": 0
      },
      "text/plain": [
       "  0%|          | 0/8892 [00:00<?, ?it/s]"
      ]
     },
     "metadata": {},
     "output_type": "display_data"
    }
   ],
   "source": [
    "m.fit_component(g1, signal_range=(458., 461.), only_current=False)"
   ]
  },
  {
   "cell_type": "code",
   "execution_count": null,
   "id": "0f6fb9b9-a8d0-4989-bacd-cb578c1d8fa4",
   "metadata": {},
   "outputs": [],
   "source": [
    "# g1.plot()"
   ]
  },
  {
   "cell_type": "code",
   "execution_count": 27,
   "id": "210e6a36-3d45-47cf-8c38-b6e1af74f854",
   "metadata": {},
   "outputs": [],
   "source": [
    "g2 = hs.model.components1D.GaussianHF()\n",
    "m.append(g2)\n",
    "m.components.GaussianHF.name = \"t_2g\""
   ]
  },
  {
   "cell_type": "code",
   "execution_count": 28,
   "id": "8d9034d7-5e8c-4591-9a47-b728deb4717b",
   "metadata": {},
   "outputs": [
    {
     "data": {
      "application/vnd.jupyter.widget-view+json": {
       "model_id": "fb2048d2a1754ea9a02a7809ef62d99b",
       "version_major": 2,
       "version_minor": 0
      },
      "text/plain": [
       "  0%|          | 0/8892 [00:00<?, ?it/s]"
      ]
     },
     "metadata": {},
     "output_type": "display_data"
    }
   ],
   "source": [
    "m.fit_component(g2, signal_range=(456., 458.), only_current=False)"
   ]
  },
  {
   "cell_type": "code",
   "execution_count": 31,
   "id": "593fbb5f-fdab-43b6-8656-e1287e5da6ad",
   "metadata": {},
   "outputs": [],
   "source": [
    "m.set_signal_range(456.4, 461.)"
   ]
  },
  {
   "cell_type": "code",
   "execution_count": 32,
   "id": "54d0d7fb-ab86-4112-83ff-8c807d1398ee",
   "metadata": {
    "scrolled": true
   },
   "outputs": [
    {
     "data": {
      "application/vnd.jupyter.widget-view+json": {
       "model_id": "d994fcf2a5f04059964f329a0ed82dc1",
       "version_major": 2,
       "version_minor": 0
      },
      "text/plain": [
       "  0%|          | 0/8892 [00:00<?, ?it/s]"
      ]
     },
     "metadata": {},
     "output_type": "display_data"
    }
   ],
   "source": [
    "m.multifit(iterpath=\"serpentine\")"
   ]
  },
  {
   "cell_type": "code",
   "execution_count": 33,
   "id": "3b4ed2ab-a918-4aae-ba5b-152924017e2c",
   "metadata": {},
   "outputs": [],
   "source": [
    "m.reset_signal_range()"
   ]
  },
  {
   "cell_type": "code",
   "execution_count": 34,
   "id": "a9aff46c-fead-4f62-97e2-86607b179921",
   "metadata": {},
   "outputs": [],
   "source": [
    "eg_t2g_ratio = g1.height.as_signal() / g2.height.as_signal()"
   ]
  },
  {
   "cell_type": "code",
   "execution_count": 35,
   "id": "8ef3bb0b-92c6-48bd-b738-1aafa62afed6",
   "metadata": {},
   "outputs": [],
   "source": [
    "eg_t2g_ratio.plot()"
   ]
  },
  {
   "cell_type": "code",
   "execution_count": 36,
   "id": "ca8b5664-5763-48f2-b6ba-ad4e438e01b0",
   "metadata": {},
   "outputs": [],
   "source": [
    "g1.set_parameters_not_free()\n",
    "g2.set_parameters_not_free()"
   ]
  },
  {
   "cell_type": "code",
   "execution_count": 37,
   "id": "8526cd67-e2c3-4e4c-8f7d-7beb6d721e15",
   "metadata": {},
   "outputs": [],
   "source": [
    "g3 = hs.model.components1D.GaussianHF()\n",
    "m.append(g3)\n",
    "m.components.GaussianHF.name = \"L_2\""
   ]
  },
  {
   "cell_type": "code",
   "execution_count": 42,
   "id": "c904bd59-587c-48f0-8a8f-b9782fb38991",
   "metadata": {},
   "outputs": [
    {
     "data": {
      "application/vnd.jupyter.widget-view+json": {
       "model_id": "2f54c81d41bf41bfa8c312b525316643",
       "version_major": 2,
       "version_minor": 0
      },
      "text/plain": [
       "VBox(children=(HBox(children=(Label(value='Only current', layout=Layout(width='auto')), Checkbox(value=False))…"
      ]
     },
     "metadata": {},
     "output_type": "display_data"
    },
    {
     "data": {
      "application/vnd.jupyter.widget-view+json": {
       "model_id": "91bf5de80b4149259a9c2835b3d0a86b",
       "version_major": 2,
       "version_minor": 0
      },
      "text/plain": [
       "  0%|          | 0/8892 [00:00<?, ?it/s]"
      ]
     },
     "metadata": {},
     "output_type": "display_data"
    }
   ],
   "source": [
    "m.fit_component(g3, only_current=False)"
   ]
  },
  {
   "cell_type": "code",
   "execution_count": 43,
   "id": "4354176e-3929-461a-bf02-8cc141a52bf1",
   "metadata": {},
   "outputs": [],
   "source": [
    "m.reset_signal_range()"
   ]
  },
  {
   "cell_type": "code",
   "execution_count": 44,
   "id": "72e4ba4a-5a8a-4e46-8b6a-d24c2ae09dcc",
   "metadata": {},
   "outputs": [],
   "source": [
    "g4 = hs.model.components1D.Gaussian()\n",
    "m.append(g4)"
   ]
  },
  {
   "cell_type": "code",
   "execution_count": 45,
   "id": "8183b37c-1c5d-4cf9-9d1c-763c34da543e",
   "metadata": {},
   "outputs": [
    {
     "data": {
      "text/plain": [
       "   # |      Attribute Name |      Component Name |      Component Type\n",
       "---- | ------------------- | ------------------- | -------------------\n",
       "   0 |                 e_g |                 e_g |          GaussianHF\n",
       "   1 |                t_2g |                t_2g |          GaussianHF\n",
       "   2 |                 L_2 |                 L_2 |          GaussianHF\n",
       "   3 |            Gaussian |            Gaussian |            Gaussian"
      ]
     },
     "execution_count": 45,
     "metadata": {},
     "output_type": "execute_result"
    }
   ],
   "source": [
    "m.components"
   ]
  },
  {
   "cell_type": "code",
   "execution_count": 46,
   "id": "14a794ee-6596-46af-8185-981fa1f68a89",
   "metadata": {},
   "outputs": [],
   "source": [
    "m.store(name='okay_fit')"
   ]
  },
  {
   "cell_type": "code",
   "execution_count": 47,
   "id": "84f6fbee-029d-4b87-ad37-32f6ef09cfb8",
   "metadata": {},
   "outputs": [
    {
     "data": {
      "application/vnd.jupyter.widget-view+json": {
       "model_id": "bb377b54f08f4068a13e7a6ac8879be9",
       "version_major": 2,
       "version_minor": 0
      },
      "text/plain": [
       "VBox(children=(HBox(children=(Label(value='Only current', layout=Layout(width='auto')), Checkbox(value=False))…"
      ]
     },
     "metadata": {},
     "output_type": "display_data"
    },
    {
     "data": {
      "application/vnd.jupyter.widget-view+json": {
       "model_id": "7f4060d47a40424babed1c01d8958525",
       "version_major": 2,
       "version_minor": 0
      },
      "text/plain": [
       "  0%|          | 0/8892 [00:00<?, ?it/s]"
      ]
     },
     "metadata": {},
     "output_type": "display_data"
    }
   ],
   "source": [
    "m.fit_component(g4, only_current=False)"
   ]
  },
  {
   "cell_type": "code",
   "execution_count": null,
   "id": "f0a28b79-9f73-42f6-92ce-059f0eee93f2",
   "metadata": {
    "scrolled": true
   },
   "outputs": [],
   "source": [
    "m.set_signal_range()"
   ]
  },
  {
   "cell_type": "code",
   "execution_count": 50,
   "id": "9cfce822-a164-4f0f-bb69-ff572024f16d",
   "metadata": {},
   "outputs": [],
   "source": [
    "m.store(name='okay_fit')"
   ]
  },
  {
   "cell_type": "code",
   "execution_count": 49,
   "id": "a68622d8-6d87-49fd-80e0-ea9186b5a72d",
   "metadata": {},
   "outputs": [],
   "source": [
    "m.save(\"Ti_fit.hspy\")"
   ]
  },
  {
   "cell_type": "code",
   "execution_count": 51,
   "id": "67a5cf15-bab1-421f-814a-75629d858f02",
   "metadata": {},
   "outputs": [
    {
     "data": {
      "text/plain": [
       "[<Axes: title={'center': 'FWHM'}, xlabel='x axis (nm)', ylabel='y axis (nm)'>,\n",
       " <Axes: title={'center': 'Height'}, xlabel='x axis (nm)', ylabel='y axis (nm)'>]"
      ]
     },
     "execution_count": 51,
     "metadata": {},
     "output_type": "execute_result"
    }
   ],
   "source": [
    "hs.plot.plot_images([m.components.e_g.fwhm.as_signal(), m.components.e_g.height.as_signal()],\n",
    "                   label=[\"FWHM\", \"Height\"],\n",
    "                   axes_decor=\"off\")"
   ]
  }
 ],
 "metadata": {
  "kernelspec": {
   "display_name": "Python 3 (ipykernel)",
   "language": "python",
   "name": "python3"
  },
  "language_info": {
   "codemirror_mode": {
    "name": "ipython",
    "version": 3
   },
   "file_extension": ".py",
   "mimetype": "text/x-python",
   "name": "python",
   "nbconvert_exporter": "python",
   "pygments_lexer": "ipython3",
   "version": "3.11.4"
  }
 },
 "nbformat": 4,
 "nbformat_minor": 5
}
